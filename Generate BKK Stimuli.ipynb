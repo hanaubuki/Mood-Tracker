{
 "cells": [
  {
   "cell_type": "code",
   "execution_count": 6,
   "id": "d9ea8226",
   "metadata": {},
   "outputs": [],
   "source": [
    "import numpy as np\n",
    "import pandas as pd\n"
   ]
  },
  {
   "cell_type": "code",
   "execution_count": 14,
   "id": "86b2a241",
   "metadata": {},
   "outputs": [
    {
     "name": "stdout",
     "output_type": "stream",
     "text": [
      "79\n",
      "167\n",
      "255\n"
     ]
    }
   ],
   "source": [
    "mn = 79\n",
    "mx = 255\n",
    "\n",
    "step = (mx-mn)//2\n",
    "\n",
    "for i in np.arange(mn,mx+1,step):\n",
    "    print( i)"
   ]
  },
  {
   "cell_type": "code",
   "execution_count": 36,
   "id": "dc56ab76",
   "metadata": {
    "scrolled": true
   },
   "outputs": [
    {
     "name": "stdout",
     "output_type": "stream",
     "text": [
      "{complexity: 79, noise: 0, smooth: 24, spike: 120},\n",
      "{complexity: 79, noise: 0, smooth: 24, spike: 250},\n",
      "{complexity: 79, noise: 150, smooth: 24, spike: 120},\n",
      "{complexity: 79, noise: 150, smooth: 24, spike: 250},\n",
      "{complexity: 225, noise: 0, smooth: 24, spike: 120},\n",
      "{complexity: 225, noise: 0, smooth: 24, spike: 250},\n",
      "{complexity: 225, noise: 150, smooth: 24, spike: 120},\n",
      "{complexity: 225, noise: 150, smooth: 24, spike: 250},\n",
      "{complexity: 79, noise: 0, smooth: 137, spike: 120},\n",
      "{complexity: 79, noise: 0, smooth: 137, spike: 250},\n",
      "{complexity: 79, noise: 150, smooth: 137, spike: 120},\n",
      "{complexity: 79, noise: 150, smooth: 137, spike: 250},\n",
      "{complexity: 225, noise: 0, smooth: 137, spike: 120},\n",
      "{complexity: 225, noise: 0, smooth: 137, spike: 250},\n",
      "{complexity: 225, noise: 150, smooth: 137, spike: 120},\n",
      "{complexity: 225, noise: 150, smooth: 137, spike: 250},\n",
      "{complexity: 79, noise: 0, smooth: 250, spike: 120},\n",
      "{complexity: 79, noise: 0, smooth: 250, spike: 250},\n",
      "{complexity: 79, noise: 150, smooth: 250, spike: 120},\n",
      "{complexity: 79, noise: 150, smooth: 250, spike: 250},\n",
      "{complexity: 225, noise: 0, smooth: 250, spike: 120},\n",
      "{complexity: 225, noise: 0, smooth: 250, spike: 250},\n",
      "{complexity: 225, noise: 150, smooth: 250, spike: 120},\n",
      "{complexity: 225, noise: 150, smooth: 250, spike: 250},\n",
      "24\n"
     ]
    }
   ],
   "source": [
    "# smooth = {\"s1\": 24, \"s2\": 137, \"s4\": 250}\n",
    "# scount = {\"sc6\": 79, \"sc10\": 200, \"sc14\": 250,}\n",
    "# noise = {\"noNoise\": 0}\n",
    "# le = {\"s\": 120, \"l\": 250}\n",
    "\n",
    "smooth = {\"s1\": 24, \"s2\": 137, \"s4\": 250}\n",
    "scount = {\"sc6\": 79, \"sc12\": 225}\n",
    "noise = {\"noNoise\": 0, \"noise\": 150}\n",
    "le = {\"s\": 120, \"l\": 250}\n",
    "\n",
    "\n",
    "eyes = {\"noeyes\": \"false\"}\n",
    "\n",
    "count = 0\n",
    "\n",
    "for s in smooth:\n",
    "    for c in scount:\n",
    "        for n in noise:\n",
    "            for l in le:            \n",
    "                for e in eyes:\n",
    "                    string = \"{complexity: \"+str(scount[c])+\", noise: \"+str(noise[n]) + \\\n",
    "                    \", smooth: \" +str(smooth[s]) + \", spike: \"+ str(le[l]) +\"},\"\n",
    "                \n",
    "                print(string)\n",
    "                count +=1\n",
    "\n",
    "print(count)"
   ]
  },
  {
   "cell_type": "code",
   "execution_count": null,
   "id": "afc72b54",
   "metadata": {},
   "outputs": [],
   "source": [
    "#     var bkk_survey = { type: jsPsychBKKSurveyText, \n",
    "#       bkkColor:\"#D7B27A\", spike:127, complexity:127, noise: 127,move: 127, smooth: 127,\n",
    "#       gui_show:false, circClick_required: true, preamble: bkk_preamble, questions: []}"
   ]
  },
  {
   "cell_type": "code",
   "execution_count": 49,
   "id": "fdd66af8",
   "metadata": {},
   "outputs": [
    {
     "data": {
      "text/plain": [
       "250.0"
      ]
     },
     "execution_count": 49,
     "metadata": {},
     "output_type": "execute_result"
    }
   ],
   "source": [
    "((250) / 3) * 3\n"
   ]
  }
 ],
 "metadata": {
  "kernelspec": {
   "display_name": "Python 3 (ipykernel)",
   "language": "python",
   "name": "python3"
  },
  "language_info": {
   "codemirror_mode": {
    "name": "ipython",
    "version": 3
   },
   "file_extension": ".py",
   "mimetype": "text/x-python",
   "name": "python",
   "nbconvert_exporter": "python",
   "pygments_lexer": "ipython3",
   "version": "3.9.13"
  }
 },
 "nbformat": 4,
 "nbformat_minor": 5
}
